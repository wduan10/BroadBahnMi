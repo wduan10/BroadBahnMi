{
 "cells": [
  {
   "cell_type": "code",
   "execution_count": null,
   "metadata": {},
   "outputs": [],
   "source": [
    "import pandas as pd\n",
    "pathologies = ['No Finding', 'Enlarged Cardiomediastinum', 'Cardiomegaly',\n",
    "               'Lung Opacity', 'Pneumonia', 'Pleural Effusion', 'Pleural Other',\n",
    "               'Fracture', 'Support Devices']\n",
    "pathology = pathologies[0]\n",
    "\n",
    "labels_path_train = '/groups/CS156b/data/student_labels/train2023.csv'\n",
    "labels_path_test = '/groups/CS156b/data/student_labels/test_ids.csv'\n",
    "\n",
    "df_train = pd.read_csv(labels_path_train)[:-1]\n",
    "df_train = df_train[['Path', pathology]]\n",
    "df_train = df_train.dropna()\n",
    "len(df_train)"
   ]
  }
 ],
 "metadata": {
  "language_info": {
   "name": "python"
  }
 },
 "nbformat": 4,
 "nbformat_minor": 2
}
