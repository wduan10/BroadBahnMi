{
 "cells": [
  {
   "cell_type": "code",
   "execution_count": 117,
   "id": "5959987e-8a43-4488-aa83-baea6c8c8e0b",
   "metadata": {},
   "outputs": [],
   "source": [
    "import pandas as pd\n",
    "from PIL import Image\n",
    "import numpy as np"
   ]
  },
  {
   "cell_type": "code",
   "execution_count": 130,
   "id": "3ec06994-92b0-4190-8b2c-0c22fc489f3e",
   "metadata": {},
   "outputs": [
    {
     "data": {
      "text/html": [
       "<div>\n",
       "<style scoped>\n",
       "    .dataframe tbody tr th:only-of-type {\n",
       "        vertical-align: middle;\n",
       "    }\n",
       "\n",
       "    .dataframe tbody tr th {\n",
       "        vertical-align: top;\n",
       "    }\n",
       "\n",
       "    .dataframe thead th {\n",
       "        text-align: right;\n",
       "    }\n",
       "</style>\n",
       "<table border=\"1\" class=\"dataframe\">\n",
       "  <thead>\n",
       "    <tr style=\"text-align: right;\">\n",
       "      <th></th>\n",
       "      <th>Id</th>\n",
       "      <th>Pleural Other</th>\n",
       "      <th>No Finding</th>\n",
       "      <th>Enlarged Cardiomediastinum</th>\n",
       "      <th>Cardiomegaly</th>\n",
       "      <th>Lung Opacity</th>\n",
       "      <th>Pneumonia</th>\n",
       "      <th>Pleural Effusion</th>\n",
       "      <th>Fracture</th>\n",
       "      <th>Support Devices</th>\n",
       "    </tr>\n",
       "  </thead>\n",
       "  <tbody>\n",
       "    <tr>\n",
       "      <td>0</td>\n",
       "      <td>7</td>\n",
       "      <td>0.521795</td>\n",
       "      <td>-0.734655</td>\n",
       "      <td>-0.275805</td>\n",
       "      <td>0.19077</td>\n",
       "      <td>0.836288</td>\n",
       "      <td>0.031183</td>\n",
       "      <td>0.384547</td>\n",
       "      <td>0.392374</td>\n",
       "      <td>0.888289</td>\n",
       "    </tr>\n",
       "    <tr>\n",
       "      <td>1</td>\n",
       "      <td>8</td>\n",
       "      <td>0.521795</td>\n",
       "      <td>-0.734655</td>\n",
       "      <td>-0.275805</td>\n",
       "      <td>0.19077</td>\n",
       "      <td>0.836288</td>\n",
       "      <td>0.031183</td>\n",
       "      <td>0.384547</td>\n",
       "      <td>0.392374</td>\n",
       "      <td>0.888289</td>\n",
       "    </tr>\n",
       "    <tr>\n",
       "      <td>2</td>\n",
       "      <td>9</td>\n",
       "      <td>0.521795</td>\n",
       "      <td>-0.734655</td>\n",
       "      <td>-0.275805</td>\n",
       "      <td>0.19077</td>\n",
       "      <td>0.836288</td>\n",
       "      <td>0.031183</td>\n",
       "      <td>0.384547</td>\n",
       "      <td>0.392374</td>\n",
       "      <td>0.888289</td>\n",
       "    </tr>\n",
       "    <tr>\n",
       "      <td>3</td>\n",
       "      <td>10</td>\n",
       "      <td>0.521795</td>\n",
       "      <td>-0.734655</td>\n",
       "      <td>-0.275805</td>\n",
       "      <td>0.19077</td>\n",
       "      <td>0.836288</td>\n",
       "      <td>0.031183</td>\n",
       "      <td>0.384547</td>\n",
       "      <td>0.392374</td>\n",
       "      <td>0.888289</td>\n",
       "    </tr>\n",
       "    <tr>\n",
       "      <td>4</td>\n",
       "      <td>42</td>\n",
       "      <td>0.521795</td>\n",
       "      <td>-0.734655</td>\n",
       "      <td>-0.275805</td>\n",
       "      <td>0.19077</td>\n",
       "      <td>0.836288</td>\n",
       "      <td>0.031183</td>\n",
       "      <td>0.384547</td>\n",
       "      <td>0.392374</td>\n",
       "      <td>0.888289</td>\n",
       "    </tr>\n",
       "  </tbody>\n",
       "</table>\n",
       "</div>"
      ],
      "text/plain": [
       "   Id  Pleural Other  No Finding  Enlarged Cardiomediastinum  Cardiomegaly  \\\n",
       "0   7       0.521795   -0.734655                   -0.275805       0.19077   \n",
       "1   8       0.521795   -0.734655                   -0.275805       0.19077   \n",
       "2   9       0.521795   -0.734655                   -0.275805       0.19077   \n",
       "3  10       0.521795   -0.734655                   -0.275805       0.19077   \n",
       "4  42       0.521795   -0.734655                   -0.275805       0.19077   \n",
       "\n",
       "   Lung Opacity  Pneumonia  Pleural Effusion  Fracture  Support Devices  \n",
       "0      0.836288   0.031183          0.384547  0.392374         0.888289  \n",
       "1      0.836288   0.031183          0.384547  0.392374         0.888289  \n",
       "2      0.836288   0.031183          0.384547  0.392374         0.888289  \n",
       "3      0.836288   0.031183          0.384547  0.392374         0.888289  \n",
       "4      0.836288   0.031183          0.384547  0.392374         0.888289  "
      ]
     },
     "execution_count": 130,
     "metadata": {},
     "output_type": "execute_result"
    }
   ],
   "source": [
    "preds_mse_path = 'solution/preds_MSE.csv'\n",
    "preds_other_path = 'solution/cnn_preds_Pleural_Other_2024-06-05_13:14:53.csv'\n",
    "df_mse = pd.read_csv(preds_mse_path)\n",
    "df_other = pd.read_csv(preds_other_path)\n",
    "df_mse.head()"
   ]
  },
  {
   "cell_type": "code",
   "execution_count": 131,
   "id": "d0d84a03",
   "metadata": {},
   "outputs": [
    {
     "data": {
      "text/html": [
       "<div>\n",
       "<style scoped>\n",
       "    .dataframe tbody tr th:only-of-type {\n",
       "        vertical-align: middle;\n",
       "    }\n",
       "\n",
       "    .dataframe tbody tr th {\n",
       "        vertical-align: top;\n",
       "    }\n",
       "\n",
       "    .dataframe thead th {\n",
       "        text-align: right;\n",
       "    }\n",
       "</style>\n",
       "<table border=\"1\" class=\"dataframe\">\n",
       "  <thead>\n",
       "    <tr style=\"text-align: right;\">\n",
       "      <th></th>\n",
       "      <th>Id</th>\n",
       "      <th>Pleural Other</th>\n",
       "    </tr>\n",
       "  </thead>\n",
       "  <tbody>\n",
       "    <tr>\n",
       "      <td>0</td>\n",
       "      <td>7</td>\n",
       "      <td>0.156856</td>\n",
       "    </tr>\n",
       "    <tr>\n",
       "      <td>1</td>\n",
       "      <td>8</td>\n",
       "      <td>0.245374</td>\n",
       "    </tr>\n",
       "    <tr>\n",
       "      <td>2</td>\n",
       "      <td>9</td>\n",
       "      <td>0.207826</td>\n",
       "    </tr>\n",
       "    <tr>\n",
       "      <td>3</td>\n",
       "      <td>10</td>\n",
       "      <td>0.162586</td>\n",
       "    </tr>\n",
       "    <tr>\n",
       "      <td>4</td>\n",
       "      <td>42</td>\n",
       "      <td>0.140203</td>\n",
       "    </tr>\n",
       "  </tbody>\n",
       "</table>\n",
       "</div>"
      ],
      "text/plain": [
       "   Id  Pleural Other\n",
       "0   7       0.156856\n",
       "1   8       0.245374\n",
       "2   9       0.207826\n",
       "3  10       0.162586\n",
       "4  42       0.140203"
      ]
     },
     "execution_count": 131,
     "metadata": {},
     "output_type": "execute_result"
    }
   ],
   "source": [
    "df_other.head()"
   ]
  },
  {
   "cell_type": "code",
   "execution_count": 133,
   "id": "9da5685a-3f9d-43be-bd97-d9fd10f9c47a",
   "metadata": {},
   "outputs": [
    {
     "name": "stdout",
     "output_type": "stream",
     "text": [
      "Column: Pleural Other\n",
      "Writing to csv\n"
     ]
    }
   ],
   "source": [
    "col = list(df_other.columns)[-1]\n",
    "print('Column:', col)\n",
    "\n",
    "filename = col.replace(' ', '_')\n",
    "df_mse[col] = df_other[col]\n",
    "\n",
    "print('Writing to csv')\n",
    "df_mse.to_csv(f'solution/{filename}_CNN.csv', index=False)"
   ]
  },
  {
   "cell_type": "code",
   "execution_count": null,
   "id": "a5c8cca3",
   "metadata": {},
   "outputs": [],
   "source": []
  }
 ],
 "metadata": {
  "kernelspec": {
   "display_name": "Python 3 (ipykernel)",
   "language": "python",
   "name": "python3"
  },
  "language_info": {
   "codemirror_mode": {
    "name": "ipython",
    "version": 3
   },
   "file_extension": ".py",
   "mimetype": "text/x-python",
   "name": "python",
   "nbconvert_exporter": "python",
   "pygments_lexer": "ipython3",
   "version": "3.11.6"
  }
 },
 "nbformat": 4,
 "nbformat_minor": 5
}
