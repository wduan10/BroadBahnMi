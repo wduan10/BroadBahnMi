{
 "cells": [
  {
   "cell_type": "code",
   "execution_count": 1,
   "id": "5959987e-8a43-4488-aa83-baea6c8c8e0b",
   "metadata": {},
   "outputs": [],
   "source": [
    "import os\n",
    "import sys\n",
    "import pandas as pd\n",
    "import glob\n",
    "from PIL import Image\n",
    "import numpy as np"
   ]
  },
  {
   "cell_type": "code",
   "execution_count": 7,
   "id": "3ec06994-92b0-4190-8b2c-0c22fc489f3e",
   "metadata": {},
   "outputs": [
    {
     "data": {
      "text/plain": [
       "(22596, 22596)"
      ]
     },
     "execution_count": 7,
     "metadata": {},
     "output_type": "execute_result"
    }
   ],
   "source": [
    "preds_mse_path = 'predictions/preds_MSE.csv'\n",
    "preds_CNN_path = 'predictions/preds_CNN.csv'\n",
    "\n",
    "df_mse = pd.read_csv(preds_mse_path)\n",
    "df_cnn = pd.read_csv(preds_CNN_path)\n",
    "df_mse.head()"
   ]
  },
  {
   "cell_type": "code",
   "execution_count": 12,
   "id": "9da5685a-3f9d-43be-bd97-d9fd10f9c47a",
   "metadata": {},
   "outputs": [],
   "source": [
    "col = 'Pleural Effusion'\n",
    "df_mse[col] = df_cnn[col]\n",
    "df_mse.to_csv('predictions/preds_combined.csv', index=False)"
   ]
  },
  {
   "cell_type": "code",
   "execution_count": null,
   "id": "f00a7b26",
   "metadata": {},
   "outputs": [],
   "source": []
  }
 ],
 "metadata": {
  "kernelspec": {
   "display_name": "Python 3 (ipykernel)",
   "language": "python",
   "name": "python3"
  },
  "language_info": {
   "codemirror_mode": {
    "name": "ipython",
    "version": 3
   },
   "file_extension": ".py",
   "mimetype": "text/x-python",
   "name": "python",
   "nbconvert_exporter": "python",
   "pygments_lexer": "ipython3",
   "version": "3.7.4"
  }
 },
 "nbformat": 4,
 "nbformat_minor": 5
}
