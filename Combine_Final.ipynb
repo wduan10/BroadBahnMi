{
 "cells": [
  {
   "cell_type": "code",
   "execution_count": 4,
   "id": "5959987e-8a43-4488-aa83-baea6c8c8e0b",
   "metadata": {},
   "outputs": [],
   "source": [
    "import pandas as pd\n",
    "from PIL import Image\n",
    "import numpy as np"
   ]
  },
  {
   "cell_type": "code",
   "execution_count": 3,
   "id": "3ec06994-92b0-4190-8b2c-0c22fc489f3e",
   "metadata": {},
   "outputs": [
    {
     "data": {
      "text/plain": [
       "Index(['Id', 'No Finding', 'Enlarged Cardiomediastinum', 'Cardiomegaly',\n",
       "       'Lung Opacity', 'Pneumonia', 'Pleural Effusion', 'Pleural Other',\n",
       "       'Fracture', 'Support Devices'],\n",
       "      dtype='object')"
      ]
     },
     "execution_count": 3,
     "metadata": {},
     "output_type": "execute_result"
    }
   ],
   "source": [
    "preds_mse_path = 'predictions/preds_MSE.csv'\n",
    "df_mse = pd.read_csv(preds_mse_path)\n",
    "\n",
    "cols = ['No Finding', 'Enlarged Cardiomediastinum', 'Cardiomegaly',\n",
    "       'Lung Opacity', 'Pneumonia', 'Pleural Effusion', 'Pleural Other',\n",
    "       'Fracture', 'Support Devices']\n",
    "paths = [\n",
    "    \n",
    "]\n",
    "\n",
    "for col, path in zip(cols, paths):\n",
    "    df_temp = pd.read_csv(path)\n",
    "    df_mse[col] = df_temp[col]\n",
    "\n",
    "df_mse.to_csv('combined/preds_final_resnet.csv', index=False)"
   ]
  },
  {
   "cell_type": "code",
   "execution_count": null,
   "id": "a5c8cca3",
   "metadata": {},
   "outputs": [],
   "source": []
  }
 ],
 "metadata": {
  "kernelspec": {
   "display_name": "Python 3 (ipykernel)",
   "language": "python",
   "name": "python3"
  },
  "language_info": {
   "codemirror_mode": {
    "name": "ipython",
    "version": 3
   },
   "file_extension": ".py",
   "mimetype": "text/x-python",
   "name": "python",
   "nbconvert_exporter": "python",
   "pygments_lexer": "ipython3",
   "version": "3.7.4"
  }
 },
 "nbformat": 4,
 "nbformat_minor": 5
}
